{
  "metadata": {
    "language_info": {
      "codemirror_mode": {
        "name": "python",
        "version": 3
      },
      "file_extension": ".py",
      "mimetype": "text/x-python",
      "name": "python",
      "nbconvert_exporter": "python",
      "pygments_lexer": "ipython3",
      "version": "3.8"
    },
    "kernelspec": {
      "name": "python",
      "display_name": "Python (Pyodide)",
      "language": "python"
    }
  },
  "nbformat_minor": 4,
  "nbformat": 4,
  "cells": [
    {
      "cell_type": "markdown",
      "source": "# <div style=\"text-align: center\">Data Science Tools and Ecosystem</div>\n\n <font size='3' >In this notebook, Data Science Tools and Ecosystem are summarized.</font>\n\n",
      "metadata": {}
    },
    {
      "cell_type": "markdown",
      "source": " ## **Objectives:**\n \n popular languages for Data Science:\n \n* Python\n* R\n* SQL\n* Java \n* Julia\n* JavaScript\n \n ",
      "metadata": {}
    },
    {
      "cell_type": "markdown",
      "source": "<font size='3'> Some of the popular languages that Data Scientists use are: </font>\n<ol ><font color='grey'>\n  <li>Python.</li>\n  <li>SQL.</li>\n  <li>R.</li>\n  <li>Julia.</li>\n  <li>JavaScript.</li>\n  <li>Scala.</li>\n  <li>JAVA.</li></font>\n</ol>\n",
      "metadata": {}
    },
    {
      "cell_type": "markdown",
      "source": "<font size='3'>Some of the commonly used libraries used by Data Scientists include:</font>\n\n<ol ><font color='grey'>\n  <li>TensorFlow.</li>\n  <li>NumPy.</li>\n  <li>SciPy.</li></font>\n</ol>",
      "metadata": {}
    },
    {
      "cell_type": "markdown",
      "source": "<font size='3'>a markdown cell with a table of Data Science tools:</font>\n\n| <font size = '3' color ='grey' >Data Science Tools </font>|\n|--------|\n| Notebooks  |\n| RStudio  |\n| hadoop  |",
      "metadata": {}
    },
    {
      "cell_type": "markdown",
      "source": "### Below are a few examples of evaluating arithmetic expressions in Python: ",
      "metadata": {}
    },
    {
      "cell_type": "code",
      "source": "# This a simple arithmetic expression to mutiply then add integers\n\na = (3*4)+5\n\nprint(a)",
      "metadata": {
        "trusted": true
      },
      "execution_count": 17,
      "outputs": [
        {
          "name": "stdout",
          "text": "17\n",
          "output_type": "stream"
        }
      ]
    },
    {
      "cell_type": "code",
      "source": "# This will convert 200 minutes to hours by diving by 60.\n\na = 200\nb = 60\nc = a/b\n\nprint(c)",
      "metadata": {
        "trusted": true
      },
      "execution_count": 19,
      "outputs": [
        {
          "name": "stdout",
          "text": "3.3333333333333335\n",
          "output_type": "stream"
        }
      ]
    },
    {
      "cell_type": "markdown",
      "source": "## Author\n\nElie El Khoury",
      "metadata": {}
    },
    {
      "cell_type": "code",
      "source": "",
      "metadata": {},
      "execution_count": null,
      "outputs": []
    }
  ]
}